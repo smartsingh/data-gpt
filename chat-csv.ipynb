{
 "cells": [
  {
   "cell_type": "code",
   "execution_count": 27,
   "id": "8b0128a9-52ff-4655-9c4d-a360a550a6a0",
   "metadata": {},
   "outputs": [],
   "source": [
    "#Ingest data and build agent\n",
    "from langchain.agents.agent_types import AgentType\n",
    "from langchain.agents import AgentExecutor\n",
    "from langchain_experimental.agents.agent_toolkits import create_pandas_dataframe_agent\n",
    "from langchain_openai import ChatOpenAI, OpenAI\n",
    "from langchain.agents import Tool\n",
    "from langchain_experimental.utilities import PythonREPL\n",
    "import matplotlib.pyplot as plt\n",
    "import pandas as pd\n",
    "import gradio as gr\n",
    "import os\n",
    "import config\n",
    "\n",
    "os.environ[\"OPENAI_API_KEY\"] = config.gptkey\n",
    "\n",
    "data = pd.read_csv('data/bills.csv')\n",
    "\n",
    "agent = create_pandas_dataframe_agent(\n",
    "        ChatOpenAI(temperature=0, model=\"gpt-3.5-turbo-1106\"),\n",
    "        data,\n",
    "        agent_type=AgentType.OPENAI_FUNCTIONS,\n",
    "    )"
   ]
  },
  {
   "cell_type": "code",
   "execution_count": 28,
   "id": "5086f22d-3a6b-4f06-a7b1-a06dfed296c4",
   "metadata": {},
   "outputs": [
    {
     "name": "stderr",
     "output_type": "stream",
     "text": [
      "2024-01-27 21:05:09.348 INFO    httpx: HTTP Request: GET http://127.0.0.1:7884/startup-events \"HTTP/1.1 200 OK\"\n",
      "2024-01-27 21:05:09.355 INFO    httpx: HTTP Request: HEAD http://127.0.0.1:7884/ \"HTTP/1.1 200 OK\"\n"
     ]
    },
    {
     "name": "stdout",
     "output_type": "stream",
     "text": [
      "Running on local URL:  http://127.0.0.1:7884\n",
      "\n",
      "To create a public link, set `share=True` in `launch()`.\n"
     ]
    },
    {
     "data": {
      "text/html": [
       "<div><iframe src=\"http://127.0.0.1:7884/\" width=\"100%\" height=\"500\" allow=\"autoplay; camera; microphone; clipboard-read; clipboard-write;\" frameborder=\"0\" allowfullscreen></iframe></div>"
      ],
      "text/plain": [
       "<IPython.core.display.HTML object>"
      ]
     },
     "metadata": {},
     "output_type": "display_data"
    },
    {
     "data": {
      "text/plain": []
     },
     "execution_count": 28,
     "metadata": {},
     "output_type": "execute_result"
    },
    {
     "name": "stderr",
     "output_type": "stream",
     "text": [
      "2024-01-27 21:05:09.510 INFO    httpx: HTTP Request: GET https://api.gradio.app/pkg-version \"HTTP/1.1 200 OK\"\n",
      "2024-01-27 21:05:09.620 INFO    httpx: HTTP Request: POST https://api.gradio.app/gradio-initiated-analytics/ \"HTTP/1.1 200 OK\"\n",
      "2024-01-27 21:05:09.815 INFO    httpx: HTTP Request: POST https://api.gradio.app/gradio-launched-telemetry/ \"HTTP/1.1 200 OK\"\n",
      "2024-01-27 21:05:16.252 INFO    httpx: HTTP Request: POST https://api.openai.com/v1/chat/completions \"HTTP/1.1 200 OK\"\n",
      "2024-01-27 21:05:39.925 INFO    httpx: HTTP Request: POST https://api.openai.com/v1/chat/completions \"HTTP/1.1 200 OK\"\n",
      "2024-01-27 21:05:41.053 INFO    httpx: HTTP Request: POST https://api.openai.com/v1/chat/completions \"HTTP/1.1 200 OK\"\n",
      "2024-01-27 21:05:58.711 INFO    httpx: HTTP Request: POST https://api.openai.com/v1/chat/completions \"HTTP/1.1 200 OK\"\n",
      "2024-01-27 21:06:00.504 INFO    httpx: HTTP Request: POST https://api.openai.com/v1/chat/completions \"HTTP/1.1 200 OK\"\n"
     ]
    }
   ],
   "source": [
    "#build out chatbot\n",
    "\n",
    "\n",
    "def get_response(input_text):\n",
    "    response = agent.invoke(input_text)\n",
    "    return response['output']\n",
    "    \n",
    "chatbot = gr.Interface(\n",
    "    fn=get_response,\n",
    "    inputs=\"text\",\n",
    "    outputs=\"text\"\n",
    ")\n",
    "\n",
    "chatbot.launch()\n",
    "\n"
   ]
  }
 ],
 "metadata": {
  "kernelspec": {
   "display_name": "Python 3 (ipykernel)",
   "language": "python",
   "name": "python3"
  },
  "language_info": {
   "codemirror_mode": {
    "name": "ipython",
    "version": 3
   },
   "file_extension": ".py",
   "mimetype": "text/x-python",
   "name": "python",
   "nbconvert_exporter": "python",
   "pygments_lexer": "ipython3",
   "version": "3.9.7"
  }
 },
 "nbformat": 4,
 "nbformat_minor": 5
}
