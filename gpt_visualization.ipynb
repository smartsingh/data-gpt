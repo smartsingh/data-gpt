{
 "cells": [
  {
   "cell_type": "code",
   "execution_count": 35,
   "id": "8b0128a9-52ff-4655-9c4d-a360a550a6a0",
   "metadata": {},
   "outputs": [],
   "source": [
    "#Ingest data and build agent\n",
    "from langchain.agents.agent_types import AgentType\n",
    "from langchain.agents import AgentExecutor\n",
    "from langchain_experimental.agents.agent_toolkits import create_pandas_dataframe_agent\n",
    "from langchain_openai import ChatOpenAI, OpenAI\n",
    "from langchain.agents import Tool\n",
    "from langchain_experimental.utilities import PythonREPL\n",
    "import matplotlib.pyplot as plt\n",
    "import pandas as pd\n",
    "import gradio as gr\n",
    "import os\n",
    "import config\n",
    "\n",
    "os.environ[\"OPENAI_API_KEY\"] = config.gptkey\n",
    "\n",
    "salaries = pd.read_csv('data/ds_salary.csv')\n",
    "\n",
    "agent = create_pandas_dataframe_agent(\n",
    "        ChatOpenAI(temperature=0, model=\"gpt-3.5-turbo-1106\"),\n",
    "        salaries,\n",
    "        agent_type=AgentType.OPENAI_FUNCTIONS,\n",
    "    )"
   ]
  },
  {
   "cell_type": "code",
   "execution_count": 36,
   "id": "5086f22d-3a6b-4f06-a7b1-a06dfed296c4",
   "metadata": {},
   "outputs": [
    {
     "name": "stdout",
     "output_type": "stream",
     "text": [
      "Running on local URL:  http://127.0.0.1:7878\n",
      "\n",
      "To create a public link, set `share=True` in `launch()`.\n"
     ]
    },
    {
     "data": {
      "text/html": [
       "<div><iframe src=\"http://127.0.0.1:7878/\" width=\"100%\" height=\"500\" allow=\"autoplay; camera; microphone; clipboard-read; clipboard-write;\" frameborder=\"0\" allowfullscreen></iframe></div>"
      ],
      "text/plain": [
       "<IPython.core.display.HTML object>"
      ]
     },
     "metadata": {},
     "output_type": "display_data"
    },
    {
     "data": {
      "text/plain": []
     },
     "execution_count": 36,
     "metadata": {},
     "output_type": "execute_result"
    }
   ],
   "source": [
    "#build out chatbot and visualize\n",
    "\n",
    "def get_response(input_text, chat_history):\n",
    "    response = agent.invoke(input_text)\n",
    "    return response['output']\n",
    "    \n",
    "chatbot = gr.ChatInterface(\n",
    "    fn=get_response\n",
    ")\n",
    "\n",
    "chatbot.launch()\n",
    "\n"
   ]
  }
 ],
 "metadata": {
  "kernelspec": {
   "display_name": "Python 3 (ipykernel)",
   "language": "python",
   "name": "python3"
  },
  "language_info": {
   "codemirror_mode": {
    "name": "ipython",
    "version": 3
   },
   "file_extension": ".py",
   "mimetype": "text/x-python",
   "name": "python",
   "nbconvert_exporter": "python",
   "pygments_lexer": "ipython3",
   "version": "3.9.7"
  }
 },
 "nbformat": 4,
 "nbformat_minor": 5
}
