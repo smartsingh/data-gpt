{
 "cells": [
  {
   "cell_type": "code",
   "execution_count": null,
   "id": "8b0128a9-52ff-4655-9c4d-a360a550a6a0",
   "metadata": {},
   "outputs": [],
   "source": [
    "#Ingest data and build agent"
   ]
  },
  {
   "cell_type": "code",
   "execution_count": null,
   "id": "73ccff44-0be3-49b0-ac37-5404ffd08f85",
   "metadata": {},
   "outputs": [],
   "source": [
    "#build chatbot and visualize data"
   ]
  }
 ],
 "metadata": {
  "kernelspec": {
   "display_name": "Python 3 (ipykernel)",
   "language": "python",
   "name": "python3"
  },
  "language_info": {
   "codemirror_mode": {
    "name": "ipython",
    "version": 3
   },
   "file_extension": ".py",
   "mimetype": "text/x-python",
   "name": "python",
   "nbconvert_exporter": "python",
   "pygments_lexer": "ipython3",
   "version": "3.9.7"
  }
 },
 "nbformat": 4,
 "nbformat_minor": 5
}
